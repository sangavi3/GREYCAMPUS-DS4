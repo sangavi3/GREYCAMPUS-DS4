{
 "cells": [
  {
   "cell_type": "code",
   "execution_count": 25,
   "metadata": {},
   "outputs": [],
   "source": [
    "import numpy as np"
   ]
  },
  {
   "cell_type": "markdown",
   "metadata": {},
   "source": [
    "2. Create a null vector of size 10"
   ]
  },
  {
   "cell_type": "code",
   "execution_count": 26,
   "metadata": {},
   "outputs": [
    {
     "data": {
      "text/plain": [
       "array([0., 0., 0., 0., 0., 0., 0., 0., 0., 0.])"
      ]
     },
     "execution_count": 26,
     "metadata": {},
     "output_type": "execute_result"
    }
   ],
   "source": [
    "v1 = np.zeros(10)\n",
    "v1"
   ]
  },
  {
   "cell_type": "markdown",
   "metadata": {},
   "source": [
    "3. Create a null vector of size 10 but the fifth value which is 1"
   ]
  },
  {
   "cell_type": "code",
   "execution_count": 27,
   "metadata": {},
   "outputs": [
    {
     "data": {
      "text/plain": [
       "array([0., 0., 0., 0., 1., 0., 0., 0., 0., 0.])"
      ]
     },
     "execution_count": 27,
     "metadata": {},
     "output_type": "execute_result"
    }
   ],
   "source": [
    "v2 = v1.copy()\n",
    "v2[4] = 1\n",
    "v2"
   ]
  },
  {
   "cell_type": "markdown",
   "metadata": {},
   "source": [
    "4. Create a vector with values ranging from 10 to 49"
   ]
  },
  {
   "cell_type": "code",
   "execution_count": 28,
   "metadata": {},
   "outputs": [
    {
     "data": {
      "text/plain": [
       "array([10, 11, 12, 13, 14, 15, 16, 17, 18, 19, 20, 21, 22, 23, 24, 25, 26,\n",
       "       27, 28, 29, 30, 31, 32, 33, 34, 35, 36, 37, 38, 39, 40, 41, 42, 43,\n",
       "       44, 45, 46, 47, 48])"
      ]
     },
     "execution_count": 28,
     "metadata": {},
     "output_type": "execute_result"
    }
   ],
   "source": [
    "v3 = np.arange(10,49)\n",
    "v3"
   ]
  },
  {
   "cell_type": "markdown",
   "metadata": {},
   "source": [
    "5. Reverse a vector (the first element becomes last)"
   ]
  },
  {
   "cell_type": "code",
   "execution_count": 29,
   "metadata": {},
   "outputs": [
    {
     "name": "stdout",
     "output_type": "stream",
     "text": [
      "vector:  [0 1 2 3 4 5 6 7 8 9]\n",
      "reverse vector:  [9 8 7 6 5 4 3 2 1 0]\n"
     ]
    }
   ],
   "source": [
    "v4 = np.arange(10)\n",
    "print(\"vector: \", v4)\n",
    "print(\"reverse vector: \", v4[::-1])\n",
    "\n",
    "# can also use flip method- np.flip(v4)"
   ]
  },
  {
   "cell_type": "markdown",
   "metadata": {},
   "source": [
    "6. Create a 3x3 matrix with values ranging from 0 to 8"
   ]
  },
  {
   "cell_type": "code",
   "execution_count": 30,
   "metadata": {},
   "outputs": [
    {
     "data": {
      "text/plain": [
       "matrix([[0, 1, 2],\n",
       "        [3, 4, 5],\n",
       "        [6, 7, 8]])"
      ]
     },
     "execution_count": 30,
     "metadata": {},
     "output_type": "execute_result"
    }
   ],
   "source": [
    "m1 = np.matrix(range(9))\n",
    "m1.shape = (3,3)\n",
    "m1"
   ]
  },
  {
   "cell_type": "markdown",
   "metadata": {},
   "source": [
    "7. Find indices of non­zero elements from [1,2,0,0,4,0]"
   ]
  },
  {
   "cell_type": "code",
   "execution_count": 31,
   "metadata": {},
   "outputs": [
    {
     "ename": "SyntaxError",
     "evalue": "invalid syntax (<ipython-input-31-050c7bbfb079>, line 4)",
     "output_type": "error",
     "traceback": [
      "\u001b[1;36m  File \u001b[1;32m\"<ipython-input-31-050c7bbfb079>\"\u001b[1;36m, line \u001b[1;32m4\u001b[0m\n\u001b[1;33m    non_zero_indicesFind indices of nonzero elements from [1,2,0,0,4,0]\u001b[0m\n\u001b[1;37m                         ^\u001b[0m\n\u001b[1;31mSyntaxError\u001b[0m\u001b[1;31m:\u001b[0m invalid syntax\n"
     ]
    }
   ],
   "source": [
    "l1 = [1,2,0,0,4,0]\n",
    "\n",
    "non_zero_indices = [l1.index(i) for i in l1 if i != 0]\n",
    "non_zero_indicesFind indices of nonzero elements from [1,2,0,0,4,0]"
   ]
  },
  {
   "cell_type": "markdown",
   "metadata": {},
   "source": [
    "8. Create a 3x3x3 array with random values"
   ]
  },
  {
   "cell_type": "code",
   "execution_count": 32,
   "metadata": {},
   "outputs": [
    {
     "data": {
      "text/plain": [
       "array([[[20, 85, 46],\n",
       "        [51, 23, 25],\n",
       "        [76, 62, 30]],\n",
       "\n",
       "       [[57, 57, 75],\n",
       "        [61, 68, 58],\n",
       "        [76, 85, 40]],\n",
       "\n",
       "       [[64, 73, 75],\n",
       "        [96, 14, 93],\n",
       "        [66, 94, 19]]])"
      ]
     },
     "execution_count": 32,
     "metadata": {},
     "output_type": "execute_result"
    }
   ],
   "source": [
    "import random\n",
    "a = np.random.randint(10, 100, (3,3,3))\n",
    "a"
   ]
  },
  {
   "cell_type": "code",
   "execution_count": 33,
   "metadata": {},
   "outputs": [
    {
     "data": {
      "text/plain": [
       "(3, 3, 3)"
      ]
     },
     "execution_count": 33,
     "metadata": {},
     "output_type": "execute_result"
    }
   ],
   "source": [
    "a.shape"
   ]
  },
  {
   "cell_type": "markdown",
   "metadata": {},
   "source": [
    "9. Create a random vector of size 30 and find the mean value"
   ]
  },
  {
   "cell_type": "code",
   "execution_count": 34,
   "metadata": {},
   "outputs": [
    {
     "name": "stdout",
     "output_type": "stream",
     "text": [
      "Random vector of size 30:  [43 19 56 16 65 70 23 65 51 36 76 77 14 35 20 71 52 19 18 11 46 25 42 49\n",
      " 65 20 48 28 48 38]\n",
      "Size of this vector:  30\n",
      "Mean of this vector:  41.53\n"
     ]
    }
   ],
   "source": [
    "b = np.array([random.randint(10,80) for i in range(30)])\n",
    "print(\"Random vector of size 30: \", b)\n",
    "print(\"Size of this vector: \", b.size)\n",
    "print(\"Mean of this vector: \", round(b.mean(), 2))"
   ]
  },
  {
   "cell_type": "markdown",
   "metadata": {},
   "source": [
    "10. Create a 2d array with 1 on the border and 0 inside"
   ]
  },
  {
   "cell_type": "code",
   "execution_count": 35,
   "metadata": {},
   "outputs": [
    {
     "name": "stdout",
     "output_type": "stream",
     "text": [
      "2D array with 1 on the outside and zero inside \n",
      " [[1 1 1]\n",
      " [1 0 1]\n",
      " [1 1 1]]\n",
      "Dimention of array 2\n"
     ]
    }
   ],
   "source": [
    "c = np.array([[1,1,1], [1,0,1], [1,1,1]])\n",
    "print(\"2D array with 1 on the outside and zero inside \\n\", c)\n",
    "print(\"Dimention of array\", c.ndim)"
   ]
  },
  {
   "cell_type": "markdown",
   "metadata": {},
   "source": [
    "11. Create an 8x8 matrix and fill it with a checkerboard pattern"
   ]
  },
  {
   "cell_type": "code",
   "execution_count": 36,
   "metadata": {},
   "outputs": [
    {
     "name": "stdout",
     "output_type": "stream",
     "text": [
      "Checkerboard pattern:\n",
      "[[0 1 0 1 0 1 0 1]\n",
      " [1 0 1 0 1 0 1 0]\n",
      " [0 1 0 1 0 1 0 1]\n",
      " [1 0 1 0 1 0 1 0]\n",
      " [0 1 0 1 0 1 0 1]\n",
      " [1 0 1 0 1 0 1 0]\n",
      " [0 1 0 1 0 1 0 1]\n",
      " [1 0 1 0 1 0 1 0]]\n"
     ]
    }
   ],
   "source": [
    "print(\"Checkerboard pattern:\")\n",
    "x = np.zeros((8,8),dtype=int)\n",
    "x[1::2,::2] = 1\n",
    "x[::2,1::2] = 1\n",
    "print(x)\n"
   ]
  },
  {
   "cell_type": "markdown",
   "metadata": {},
   "source": [
    "12. What is the major difference between sets, lists, tuples, and dictionaries?\n",
    "\n",
    " list\t                   tuple\t                     set\t                                     dictionary\n",
    "-Denoted by[]\t          -Denoted by ()\t           -Denoted by {}\t                             -Denoted by {}\n",
    "-Ordered data structure\t  -Ordered data structure\t   -Unordered data structure\t                 -Unordered data structure\n",
    "-Allows all data types \t  -Allows all data types \t   -Allows all data types other than boolean     -Allows all data types \n",
    "-Allows duplicates\t      -Allows duplicates\t       -No duplicates\t                             -Overwrites the duplicates\n",
    "-mutable       \t          -immutable\t               -Mutable(allow addition and exclusion)        -mutable\n",
    "\n"
   ]
  },
  {
   "cell_type": "markdown",
   "metadata": {},
   "source": [
    "13. Print first 10 natural numbers using while loop"
   ]
  },
  {
   "cell_type": "code",
   "execution_count": 37,
   "metadata": {},
   "outputs": [
    {
     "name": "stdout",
     "output_type": "stream",
     "text": [
      "1\n",
      "2\n",
      "3\n",
      "4\n",
      "5\n",
      "6\n",
      "7\n",
      "8\n",
      "9\n",
      "10\n"
     ]
    }
   ],
   "source": [
    "for i in range(1,11):\n",
    "    print(i)"
   ]
  },
  {
   "cell_type": "markdown",
   "metadata": {},
   "source": [
    "14. Print the numbers -10 to -1 using for loop."
   ]
  },
  {
   "cell_type": "code",
   "execution_count": 38,
   "metadata": {},
   "outputs": [
    {
     "name": "stdout",
     "output_type": "stream",
     "text": [
      "-10\n",
      "-9\n",
      "-8\n",
      "-7\n",
      "-6\n",
      "-5\n",
      "-4\n",
      "-3\n",
      "-2\n",
      "-1\n"
     ]
    }
   ],
   "source": [
    "for i in range(-10, 0):\n",
    "    print(i)"
   ]
  },
  {
   "cell_type": "markdown",
   "metadata": {},
   "source": [
    "15. Print the message “Done” after successful execution of any for loop. \n",
    "\n",
    "Modifying the above loop for printing numbers -10 to -1 to print \"Done\" after the successful completion of the loop."
   ]
  },
  {
   "cell_type": "code",
   "execution_count": 39,
   "metadata": {},
   "outputs": [
    {
     "name": "stdout",
     "output_type": "stream",
     "text": [
      "-10\n",
      "-9\n",
      "-8\n",
      "-7\n",
      "-6\n",
      "-5\n",
      "-4\n",
      "-3\n",
      "-2\n",
      "-1\n",
      "Done\n"
     ]
    }
   ],
   "source": [
    "n = 0\n",
    "while n != -1:\n",
    "    for i in range(-10, 0):\n",
    "        print(i)\n",
    "        n = i\n",
    "print(\"Done\")"
   ]
  },
  {
   "cell_type": "markdown",
   "metadata": {},
   "source": [
    "16. Create a random vector of size 10 and sort it"
   ]
  },
  {
   "cell_type": "code",
   "execution_count": 40,
   "metadata": {},
   "outputs": [
    {
     "name": "stdout",
     "output_type": "stream",
     "text": [
      "Random vector:  [22 27 26 49 67 72 14 61 54 85]\n",
      "Sorted random vector: [14 22 26 27 49 54 61 67 72 85]\n"
     ]
    }
   ],
   "source": [
    "r = np.random.randint(10, 100, (10))\n",
    "print(\"Random vector: \", r)\n",
    "r.sort()\n",
    "print(\"Sorted random vector:\", r)"
   ]
  },
  {
   "cell_type": "markdown",
   "metadata": {},
   "source": [
    "17. Execute any three math functions using numpy."
   ]
  },
  {
   "cell_type": "code",
   "execution_count": 41,
   "metadata": {},
   "outputs": [
    {
     "name": "stdout",
     "output_type": "stream",
     "text": [
      "Mean of vector: 47.7\n",
      "SD of vector: 22.95234192843946\n",
      "Sum of vector: 477\n"
     ]
    }
   ],
   "source": [
    "print(\"Mean of vector:\",r.mean())\n",
    "print(\"SD of vector:\", r.std())\n",
    "print(\"Sum of vector:\", r.sum())"
   ]
  },
  {
   "cell_type": "code",
   "execution_count": null,
   "metadata": {},
   "outputs": [],
   "source": []
  }
 ],
 "metadata": {
  "kernelspec": {
   "display_name": "Python 3",
   "language": "python",
   "name": "python3"
  },
  "language_info": {
   "codemirror_mode": {
    "name": "ipython",
    "version": 3
   },
   "file_extension": ".py",
   "mimetype": "text/x-python",
   "name": "python",
   "nbconvert_exporter": "python",
   "pygments_lexer": "ipython3",
   "version": "3.8.8"
  }
 },
 "nbformat": 4,
 "nbformat_minor": 4
}
