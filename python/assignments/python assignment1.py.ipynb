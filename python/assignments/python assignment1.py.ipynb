{
 "cells": [
  {
   "cell_type": "markdown",
   "id": "382625fe",
   "metadata": {},
   "source": [
    "Create an algorithm that detects prime numbers using simple python libraries or without using them either.\n",
    "  The algorithm needs to check if a number entered by the user is a prime number or not."
   ]
  },
  {
   "cell_type": "code",
   "execution_count": 4,
   "id": "96c9a62d",
   "metadata": {},
   "outputs": [
    {
     "name": "stdout",
     "output_type": "stream",
     "text": [
      "number:12\n",
      "12  is not a prime number\n"
     ]
    }
   ],
   "source": [
    "number=int(input('number:'))\n",
    "for i in range(2,number):\n",
    "    if number%i==0:\n",
    "        print(number,\" is not a prime number\")\n",
    "        break\n",
    "else:\n",
    "    print(number,\"is a prime number\")  "
   ]
  },
  {
   "cell_type": "code",
   "execution_count": null,
   "id": "42a20f3c",
   "metadata": {},
   "outputs": [],
   "source": []
  },
  {
   "cell_type": "code",
   "execution_count": null,
   "id": "65867961",
   "metadata": {},
   "outputs": [],
   "source": []
  },
  {
   "cell_type": "code",
   "execution_count": null,
   "id": "711b13d1",
   "metadata": {},
   "outputs": [],
   "source": []
  },
  {
   "cell_type": "code",
   "execution_count": null,
   "id": "ebd26269",
   "metadata": {},
   "outputs": [],
   "source": []
  },
  {
   "cell_type": "code",
   "execution_count": null,
   "id": "1832b977",
   "metadata": {},
   "outputs": [],
   "source": []
  }
 ],
 "metadata": {
  "kernelspec": {
   "display_name": "Python 3",
   "language": "python",
   "name": "python3"
  },
  "language_info": {
   "codemirror_mode": {
    "name": "ipython",
    "version": 3
   },
   "file_extension": ".py",
   "mimetype": "text/x-python",
   "name": "python",
   "nbconvert_exporter": "python",
   "pygments_lexer": "ipython3",
   "version": "3.8.8"
  }
 },
 "nbformat": 4,
 "nbformat_minor": 5
}
